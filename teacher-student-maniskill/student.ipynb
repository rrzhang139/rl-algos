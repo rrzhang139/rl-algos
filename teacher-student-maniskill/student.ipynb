{
 "cells": [
  {
   "cell_type": "code",
   "execution_count": 12,
   "metadata": {},
   "outputs": [
    {
     "name": "stderr",
     "output_type": "stream",
     "text": [
      "\u001b[33;1m2025-05-01 18:12:20,779 - mani_skill  - WARNING - Detected MacOS system, forcing render backend to be sapien_cpu and render device to be MacOS compatible.\u001b[0m\n"
     ]
    },
    {
     "name": "stdout",
     "output_type": "stream",
     "text": [
      "KeysView(OrderedDict([('agent', Dict('qpos': Box(-inf, inf, (1, 9), float32), 'qvel': Box(-inf, inf, (1, 9), float32))), ('extra', Dict('is_grasped': Box(False, True, (1,), bool), 'tcp_pose': Box(-inf, inf, (1, 7), float32), 'goal_pos': Box(-inf, inf, (1, 3), float32))), ('sensor_param', Dict('base_camera': Dict('extrinsic_cv': Box(-inf, inf, (1, 3, 4), float32), 'cam2world_gl': Box(-inf, inf, (1, 4, 4), float32), 'intrinsic_cv': Box(-inf, inf, (1, 3, 3), float32)))), ('sensor_data', Dict()), ('pointcloud', Dict('xyzw': Box(-inf, inf, (1, 16384, 4), float32), 'rgb': Box(0, 255, (1, 16384, 3), uint8), 'segmentation': Box(-32768, 32767, (1, 16384, 1), int16)))]))\n",
      "tensor([[[-1.2906e+01, -9.3620e+00, -9.1926e-01,  1.0000e+00],\n",
      "         [-1.2906e+01, -9.2150e+00, -9.1926e-01,  1.0000e+00],\n",
      "         [-1.2906e+01, -9.0670e+00, -9.1926e-01,  1.0000e+00],\n",
      "         ...,\n",
      "         [ 3.6450e-01,  4.1100e-01,  2.9278e-04,  1.0000e+00],\n",
      "         [ 3.6450e-01,  4.1800e-01,  2.9278e-04,  1.0000e+00],\n",
      "         [ 3.6450e-01,  4.2500e-01,  2.9278e-04,  1.0000e+00]]])\n"
     ]
    }
   ],
   "source": [
    "import mani_skill\n",
    "import numpy as np\n",
    "import gymnasium as gym\n",
    "from mani_skill.utils.wrappers import FlattenObservationWrapper\n",
    "\n",
    "env = gym.make(\"PickCube-v1\", obs_mode=\"pointcloud\", num_envs=1)\n",
    "# env = FlattenRGBDObservations(env)\n",
    "print(env.observation_space.keys())\n",
    "\n",
    "obs, _ = env.reset()\n",
    "print(obs[\"pointcloud\"][\"xyzw\"])"
   ]
  },
  {
   "cell_type": "code",
   "execution_count": null,
   "metadata": {},
   "outputs": [],
   "source": []
  }
 ],
 "metadata": {
  "kernelspec": {
   "display_name": "base",
   "language": "python",
   "name": "python3"
  },
  "language_info": {
   "codemirror_mode": {
    "name": "ipython",
    "version": 3
   },
   "file_extension": ".py",
   "mimetype": "text/x-python",
   "name": "python",
   "nbconvert_exporter": "python",
   "pygments_lexer": "ipython3",
   "version": "3.11.11"
  }
 },
 "nbformat": 4,
 "nbformat_minor": 2
}
